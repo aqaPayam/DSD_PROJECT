{
 "cells": [
  {
   "cell_type": "code",
   "execution_count": 9,
   "id": "afd60696",
   "metadata": {},
   "outputs": [
    {
     "name": "stdout",
     "output_type": "stream",
     "text": [
      "time is 25.370566606521606 for  10000000 iterations\n",
      "time per iterate =  2.5370566606521605e-06\n"
     ]
    }
   ],
   "source": [
    "import psutil\n",
    "import math\n",
    "import random\n",
    "import time\n",
    "\n",
    "ITERATIONS = 10000000\n",
    "X = [random.uniform(-math.pi, math.pi) for _ in range(ITERATIONS)]\n",
    "V = [random.uniform(-math.inf, math.inf) for _ in range(ITERATIONS)]\n",
    "result = []\n",
    "start = time.time()\n",
    "\n",
    "for i in range(ITERATIONS):\n",
    "    x = X[i]\n",
    "    v = V[i]\n",
    "    term = 1\n",
    "    exp = 0\n",
    "    for j in range(1, 8):\n",
    "        term *= ((-1) / (2 * j * (2 * j - 1)))\n",
    "        term *= x * x\n",
    "        exp += term\n",
    "    result.append(v * exp)\n",
    "\n",
    "total = (time.time() - start)\n",
    "print(\"time is %s\" % total,\"for \",ITERATIONS ,\"iterations\")\n",
    "print(\"time per iterate = \",total / ITERATIONS )\n",
    "\n"
   ]
  },
  {
   "cell_type": "code",
   "execution_count": 10,
   "id": "9cfa3e23",
   "metadata": {},
   "outputs": [
    {
     "name": "stdout",
     "output_type": "stream",
     "text": [
      "======================================== CPU Info ========================================\n",
      "Physical cores: 4\n",
      "Total cores: 8\n",
      "Max Frequency: 2803.00Mhz\n",
      "Min Frequency: 0.00Mhz\n",
      "Current Frequency: 2803.00Mhz\n",
      "CPU Usage Per Core:\n",
      "Core 0: 11.9%\n",
      "Core 1: 7.7%\n",
      "Core 2: 12.3%\n",
      "Core 3: 7.7%\n",
      "Core 4: 1.6%\n",
      "Core 5: 3.1%\n",
      "Core 6: 4.7%\n",
      "Core 7: 17.1%\n",
      "Total CPU Usage: 7.9%\n"
     ]
    }
   ],
   "source": [
    "#from https://www.thepythoncode.com/article/get-hardware-system-information-python\n",
    "\n",
    "# let's print CPU information\n",
    "print(\"=\"*40, \"CPU Info\", \"=\"*40)\n",
    "# number of cores\n",
    "print(\"Physical cores:\", psutil.cpu_count(logical=False))\n",
    "print(\"Total cores:\", psutil.cpu_count(logical=True))\n",
    "# CPU frequencies\n",
    "cpufreq = psutil.cpu_freq()\n",
    "print(f\"Max Frequency: {cpufreq.max:.2f}Mhz\")\n",
    "print(f\"Min Frequency: {cpufreq.min:.2f}Mhz\")\n",
    "print(f\"Current Frequency: {cpufreq.current:.2f}Mhz\")\n",
    "# CPU usage\n",
    "print(\"CPU Usage Per Core:\")\n",
    "for i, percentage in enumerate(psutil.cpu_percent(percpu=True, interval=1)):\n",
    "    print(f\"Core {i}: {percentage}%\")\n",
    "print(f\"Total CPU Usage: {psutil.cpu_percent()}%\")"
   ]
  },
  {
   "cell_type": "code",
   "execution_count": null,
   "id": "721bb0fb",
   "metadata": {},
   "outputs": [],
   "source": []
  }
 ],
 "metadata": {
  "kernelspec": {
   "display_name": "Python 3 (ipykernel)",
   "language": "python",
   "name": "python3"
  },
  "language_info": {
   "codemirror_mode": {
    "name": "ipython",
    "version": 3
   },
   "file_extension": ".py",
   "mimetype": "text/x-python",
   "name": "python",
   "nbconvert_exporter": "python",
   "pygments_lexer": "ipython3",
   "version": "3.9.13"
  }
 },
 "nbformat": 4,
 "nbformat_minor": 5
}
